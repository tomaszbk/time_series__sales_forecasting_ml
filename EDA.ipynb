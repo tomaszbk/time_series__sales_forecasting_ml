{
 "cells": [
  {
   "cell_type": "code",
   "execution_count": 1,
   "metadata": {},
   "outputs": [
    {
     "name": "stdout",
     "output_type": "stream",
     "text": [
      "(3000888, 6)\n"
     ]
    }
   ],
   "source": [
    "import pandas as pd\n",
    "import numpy as np\n",
    "import matplotlib.pyplot as plt\n",
    "\n",
    "train_data = pd.read_csv('data/train.csv')\n",
    "print(train_data.shape)\n",
    "oil_df = pd.read_csv('data/oil.csv')\n",
    "oil_df.columns = ['date', 'oil_price']"
   ]
  },
  {
   "cell_type": "markdown",
   "metadata": {},
   "source": [
    "# Oil EDA and transformation"
   ]
  },
  {
   "cell_type": "code",
   "execution_count": 43,
   "metadata": {},
   "outputs": [],
   "source": [
    "oil_df = pd.read_csv('data/oil.csv')\n",
    "oil_df.columns = ['date', 'oil_price']\n",
    "oil_df['date'] = pd.to_datetime(oil_df['date'])\n",
    "\n",
    "def fill_nan_with_mean_from_prev_and_next(col):\n",
    "    df_filled_forward = col.ffill()\n",
    "\n",
    "    # Backward fill NaN values\n",
    "    df_filled_backward = col.bfill()\n",
    "\n",
    "    # Fill NaN values with the average of previous and next value\n",
    "    return (df_filled_forward + df_filled_backward) / 2"
   ]
  },
  {
   "cell_type": "code",
   "execution_count": 44,
   "metadata": {},
   "outputs": [
    {
     "name": "stdout",
     "output_type": "stream",
     "text": [
      "Shape: (1218, 2)\n",
      "43\n"
     ]
    }
   ],
   "source": [
    "print(F\"Shape: {oil_df.shape}\")\n",
    "print(oil_df['oil_price'].isnull().sum())"
   ]
  },
  {
   "cell_type": "code",
   "execution_count": 45,
   "metadata": {},
   "outputs": [
    {
     "name": "stdout",
     "output_type": "stream",
     "text": [
      "2013-01-01 00:00:00\n",
      "2017-08-31 00:00:00\n"
     ]
    }
   ],
   "source": [
    "print(oil_df['date'].min())\n",
    "print(oil_df['date'].max())"
   ]
  },
  {
   "cell_type": "markdown",
   "metadata": {},
   "source": [
    "There are missing dates in the data. I will fill them with the last known value. I will also create a new feature that is the difference between the current day and the previous day. This will help the model to understand the trend in the data."
   ]
  },
  {
   "cell_type": "code",
   "execution_count": 46,
   "metadata": {},
   "outputs": [
    {
     "name": "stdout",
     "output_type": "stream",
     "text": [
      "Shape: (1704, 2)\n",
      "0\n"
     ]
    }
   ],
   "source": [
    "complete_dates = pd.date_range(start=\"2013-01-01\", end=\"2017-08-31\")\n",
    "complete_df = pd.DataFrame({\"date\": complete_dates})\n",
    "merged_days_oil_df = pd.merge(complete_df, oil_df, on=\"date\", how=\"left\")\n",
    "merged_days_oil_df[\"oil_price\"] = fill_nan_with_mean_from_prev_and_next(\n",
    "    merged_days_oil_df[\"oil_price\"]\n",
    ")\n",
    "merged_days_oil_df = merged_days_oil_df.ffill().bfill()\n",
    "print(F\"Shape: {merged_days_oil_df.shape}\")\n",
    "print(merged_days_oil_df['oil_price'].isnull().sum())"
   ]
  },
  {
   "cell_type": "code",
   "execution_count": 6,
   "metadata": {},
   "outputs": [
    {
     "data": {
      "text/html": [
       "<div>\n",
       "<style scoped>\n",
       "    .dataframe tbody tr th:only-of-type {\n",
       "        vertical-align: middle;\n",
       "    }\n",
       "\n",
       "    .dataframe tbody tr th {\n",
       "        vertical-align: top;\n",
       "    }\n",
       "\n",
       "    .dataframe thead th {\n",
       "        text-align: right;\n",
       "    }\n",
       "</style>\n",
       "<table border=\"1\" class=\"dataframe\">\n",
       "  <thead>\n",
       "    <tr style=\"text-align: right;\">\n",
       "      <th></th>\n",
       "      <th>date</th>\n",
       "      <th>oil_price</th>\n",
       "    </tr>\n",
       "  </thead>\n",
       "  <tbody>\n",
       "    <tr>\n",
       "      <th>0</th>\n",
       "      <td>2013-01-01</td>\n",
       "      <td>93.14</td>\n",
       "    </tr>\n",
       "    <tr>\n",
       "      <th>1</th>\n",
       "      <td>2013-01-02</td>\n",
       "      <td>93.14</td>\n",
       "    </tr>\n",
       "    <tr>\n",
       "      <th>2</th>\n",
       "      <td>2013-01-03</td>\n",
       "      <td>92.97</td>\n",
       "    </tr>\n",
       "    <tr>\n",
       "      <th>3</th>\n",
       "      <td>2013-01-04</td>\n",
       "      <td>93.12</td>\n",
       "    </tr>\n",
       "    <tr>\n",
       "      <th>4</th>\n",
       "      <td>2013-01-05</td>\n",
       "      <td>93.16</td>\n",
       "    </tr>\n",
       "  </tbody>\n",
       "</table>\n",
       "</div>"
      ],
      "text/plain": [
       "        date  oil_price\n",
       "0 2013-01-01      93.14\n",
       "1 2013-01-02      93.14\n",
       "2 2013-01-03      92.97\n",
       "3 2013-01-04      93.12\n",
       "4 2013-01-05      93.16"
      ]
     },
     "execution_count": 6,
     "metadata": {},
     "output_type": "execute_result"
    }
   ],
   "source": [
    "merged_days_oil_df.head(5)"
   ]
  },
  {
   "cell_type": "code",
   "execution_count": 7,
   "metadata": {},
   "outputs": [
    {
     "data": {
      "text/plain": [
       "<Axes: >"
      ]
     },
     "execution_count": 7,
     "metadata": {},
     "output_type": "execute_result"
    },
    {
     "data": {
      "image/png": "[encoded data removed]",
      "text/plain": [
       "<Figure size 640x480 with 1 Axes>"
      ]
     },
     "metadata": {},
     "output_type": "display_data"
    }
   ],
   "source": [
    "train_data.groupby(['family', 'store_nbr'])[['sales']].mean().boxplot()"
   ]
  },
  {
   "cell_type": "code",
   "execution_count": 8,
   "metadata": {},
   "outputs": [
    {
     "data": {
      "image/png": "[encoded data removed]",
      "text/plain": [
       "<Figure size 640x480 with 1 Axes>"
      ]
     },
     "metadata": {},
     "output_type": "display_data"
    }
   ],
   "source": [
    "def cap_sales(df):\n",
    "    df.sales = df.sales.map(lambda x: x if x < 10000 else 10000)\n",
    "    return df\n",
    "train_data = cap_sales(train_data)\n",
    "train_data.groupby(['family', 'store_nbr'])[['sales']].mean().boxplot()\n",
    "plt.show()"
   ]
  },
  {
   "cell_type": "code",
   "execution_count": 9,
   "metadata": {},
   "outputs": [
    {
     "data": {
      "image/png": "[encoded data removed]",
      "text/plain": [
       "<Figure size 640x480 with 1 Axes>"
      ]
     },
     "metadata": {},
     "output_type": "display_data"
    }
   ],
   "source": [
    "import matplotlib.pyplot as plt\n",
    "train_data.sales.hist()\n",
    "plt.show()"
   ]
  },
  {
   "cell_type": "markdown",
   "metadata": {},
   "source": [
    "# Stores EDA and transformation"
   ]
  },
  {
   "cell_type": "code",
   "execution_count": 10,
   "metadata": {},
   "outputs": [],
   "source": [
    "stores_df = pd.read_csv('data/stores.csv')\n",
    "merged_store_train = pd.merge(train_data, stores_df, on=['store_nbr','store_nbr'])\n",
    "# merged_store_train = merged_store_train.drop(['store_nbr'], axis=1)"
   ]
  },
  {
   "cell_type": "markdown",
   "metadata": {},
   "source": [
    "# Holidays EDA"
   ]
  },
  {
   "cell_type": "code",
   "execution_count": 11,
   "metadata": {},
   "outputs": [
    {
     "data": {
      "text/html": [
       "<div>\n",
       "<style scoped>\n",
       "    .dataframe tbody tr th:only-of-type {\n",
       "        vertical-align: middle;\n",
       "    }\n",
       "\n",
       "    .dataframe tbody tr th {\n",
       "        vertical-align: top;\n",
       "    }\n",
       "\n",
       "    .dataframe thead th {\n",
       "        text-align: right;\n",
       "    }\n",
       "</style>\n",
       "<table border=\"1\" class=\"dataframe\">\n",
       "  <thead>\n",
       "    <tr style=\"text-align: right;\">\n",
       "      <th></th>\n",
       "      <th>date</th>\n",
       "      <th>locale</th>\n",
       "      <th>locale_name</th>\n",
       "      <th>is_holiday</th>\n",
       "    </tr>\n",
       "  </thead>\n",
       "  <tbody>\n",
       "    <tr>\n",
       "      <th>0</th>\n",
       "      <td>2012-03-02</td>\n",
       "      <td>Local</td>\n",
       "      <td>Manta</td>\n",
       "      <td>True</td>\n",
       "    </tr>\n",
       "    <tr>\n",
       "      <th>1</th>\n",
       "      <td>2012-04-01</td>\n",
       "      <td>Regional</td>\n",
       "      <td>Cotopaxi</td>\n",
       "      <td>True</td>\n",
       "    </tr>\n",
       "    <tr>\n",
       "      <th>2</th>\n",
       "      <td>2012-04-12</td>\n",
       "      <td>Local</td>\n",
       "      <td>Cuenca</td>\n",
       "      <td>True</td>\n",
       "    </tr>\n",
       "    <tr>\n",
       "      <th>3</th>\n",
       "      <td>2012-04-14</td>\n",
       "      <td>Local</td>\n",
       "      <td>Libertad</td>\n",
       "      <td>True</td>\n",
       "    </tr>\n",
       "    <tr>\n",
       "      <th>4</th>\n",
       "      <td>2012-04-21</td>\n",
       "      <td>Local</td>\n",
       "      <td>Riobamba</td>\n",
       "      <td>True</td>\n",
       "    </tr>\n",
       "  </tbody>\n",
       "</table>\n",
       "</div>"
      ],
      "text/plain": [
       "         date    locale locale_name  is_holiday\n",
       "0  2012-03-02     Local       Manta        True\n",
       "1  2012-04-01  Regional    Cotopaxi        True\n",
       "2  2012-04-12     Local      Cuenca        True\n",
       "3  2012-04-14     Local    Libertad        True\n",
       "4  2012-04-21     Local    Riobamba        True"
      ]
     },
     "execution_count": 11,
     "metadata": {},
     "output_type": "execute_result"
    }
   ],
   "source": [
    "holidays_df = pd.read_csv('data/holidays_events.csv')\n",
    "\n",
    "holidays_filtered = holidays_df[~holidays_df['transferred']].copy()\n",
    "holidays_filtered['is_holiday'] = True\n",
    "holidays_filtered = holidays_filtered.drop(['type', 'description', 'transferred'], axis=1)\n",
    "local_holidays = holidays_filtered[holidays_filtered.locale == 'Local'].copy()\n",
    "regional_holidays = holidays_filtered[holidays_filtered.locale == 'Regional'].copy()\n",
    "national_holidays = holidays_filtered[holidays_filtered.locale == 'National'].copy()\n",
    "\n",
    "holidays_filtered.head()"
   ]
  },
  {
   "cell_type": "code",
   "execution_count": 12,
   "metadata": {},
   "outputs": [],
   "source": [
    "national_indexes = pd.merge(merged_store_train, national_holidays, on='date', how='left')['is_holiday']\n",
    "regional_indexes = pd.merge(merged_store_train, regional_holidays, left_on=['date', 'state'], right_on=['date', 'locale_name'], how='left')['is_holiday']\n",
    "local_indexes = pd.merge(merged_store_train, local_holidays, left_on=['date', 'city'], right_on=['date', 'locale_name'], how='left')['is_holiday']"
   ]
  },
  {
   "cell_type": "code",
   "execution_count": 13,
   "metadata": {},
   "outputs": [],
   "source": [
    "final_indexes = national_indexes | regional_indexes | local_indexes"
   ]
  },
  {
   "cell_type": "code",
   "execution_count": 14,
   "metadata": {},
   "outputs": [],
   "source": [
    "merged_store_train['is_holiday'] = final_indexes"
   ]
  },
  {
   "cell_type": "code",
   "execution_count": 15,
   "metadata": {},
   "outputs": [
    {
     "data": {
      "text/plain": [
       "is_holiday\n",
       "False    2740980\n",
       "True      259908\n",
       "Name: count, dtype: int64"
      ]
     },
     "execution_count": 15,
     "metadata": {},
     "output_type": "execute_result"
    }
   ],
   "source": [
    "merged_store_train['is_holiday'].value_counts()"
   ]
  },
  {
   "cell_type": "code",
   "execution_count": 16,
   "metadata": {},
   "outputs": [
    {
     "data": {
      "text/html": [
       "<div>\n",
       "<style scoped>\n",
       "    .dataframe tbody tr th:only-of-type {\n",
       "        vertical-align: middle;\n",
       "    }\n",
       "\n",
       "    .dataframe tbody tr th {\n",
       "        vertical-align: top;\n",
       "    }\n",
       "\n",
       "    .dataframe thead th {\n",
       "        text-align: right;\n",
       "    }\n",
       "</style>\n",
       "<table border=\"1\" class=\"dataframe\">\n",
       "  <thead>\n",
       "    <tr style=\"text-align: right;\">\n",
       "      <th></th>\n",
       "      <th>date</th>\n",
       "      <th>city</th>\n",
       "      <th>state</th>\n",
       "      <th>is_holiday</th>\n",
       "    </tr>\n",
       "  </thead>\n",
       "  <tbody>\n",
       "    <tr>\n",
       "      <th>54846</th>\n",
       "      <td>2017-07-25</td>\n",
       "      <td>Quito</td>\n",
       "      <td>Pichincha</td>\n",
       "      <td>False</td>\n",
       "    </tr>\n",
       "    <tr>\n",
       "      <th>54847</th>\n",
       "      <td>2017-07-25</td>\n",
       "      <td>Quito</td>\n",
       "      <td>Pichincha</td>\n",
       "      <td>False</td>\n",
       "    </tr>\n",
       "    <tr>\n",
       "      <th>54848</th>\n",
       "      <td>2017-07-25</td>\n",
       "      <td>Quito</td>\n",
       "      <td>Pichincha</td>\n",
       "      <td>False</td>\n",
       "    </tr>\n",
       "    <tr>\n",
       "      <th>54849</th>\n",
       "      <td>2017-07-25</td>\n",
       "      <td>Quito</td>\n",
       "      <td>Pichincha</td>\n",
       "      <td>False</td>\n",
       "    </tr>\n",
       "    <tr>\n",
       "      <th>54850</th>\n",
       "      <td>2017-07-25</td>\n",
       "      <td>Quito</td>\n",
       "      <td>Pichincha</td>\n",
       "      <td>False</td>\n",
       "    </tr>\n",
       "    <tr>\n",
       "      <th>54851</th>\n",
       "      <td>2017-07-25</td>\n",
       "      <td>Quito</td>\n",
       "      <td>Pichincha</td>\n",
       "      <td>False</td>\n",
       "    </tr>\n",
       "    <tr>\n",
       "      <th>54852</th>\n",
       "      <td>2017-07-25</td>\n",
       "      <td>Quito</td>\n",
       "      <td>Pichincha</td>\n",
       "      <td>False</td>\n",
       "    </tr>\n",
       "    <tr>\n",
       "      <th>54853</th>\n",
       "      <td>2017-07-25</td>\n",
       "      <td>Quito</td>\n",
       "      <td>Pichincha</td>\n",
       "      <td>False</td>\n",
       "    </tr>\n",
       "    <tr>\n",
       "      <th>54854</th>\n",
       "      <td>2017-07-25</td>\n",
       "      <td>Quito</td>\n",
       "      <td>Pichincha</td>\n",
       "      <td>False</td>\n",
       "    </tr>\n",
       "    <tr>\n",
       "      <th>54855</th>\n",
       "      <td>2017-07-25</td>\n",
       "      <td>Quito</td>\n",
       "      <td>Pichincha</td>\n",
       "      <td>False</td>\n",
       "    </tr>\n",
       "  </tbody>\n",
       "</table>\n",
       "</div>"
      ],
      "text/plain": [
       "             date   city      state  is_holiday\n",
       "54846  2017-07-25  Quito  Pichincha       False\n",
       "54847  2017-07-25  Quito  Pichincha       False\n",
       "54848  2017-07-25  Quito  Pichincha       False\n",
       "54849  2017-07-25  Quito  Pichincha       False\n",
       "54850  2017-07-25  Quito  Pichincha       False\n",
       "54851  2017-07-25  Quito  Pichincha       False\n",
       "54852  2017-07-25  Quito  Pichincha       False\n",
       "54853  2017-07-25  Quito  Pichincha       False\n",
       "54854  2017-07-25  Quito  Pichincha       False\n",
       "54855  2017-07-25  Quito  Pichincha       False"
      ]
     },
     "execution_count": 16,
     "metadata": {},
     "output_type": "execute_result"
    }
   ],
   "source": [
    "merged_store_train[['date','city','state', 'is_holiday']].loc[merged_store_train['date'] == '2017-07-25'].head(10)"
   ]
  },
  {
   "cell_type": "markdown",
   "metadata": {},
   "source": [
    "# Date Encoding"
   ]
  },
  {
   "cell_type": "code",
   "execution_count": 17,
   "metadata": {},
   "outputs": [],
   "source": [
    "merged_store_train['day_of_week'] = pd.to_datetime(merged_store_train['date']).dt.dayofweek"
   ]
  },
  {
   "cell_type": "code",
   "execution_count": 18,
   "metadata": {},
   "outputs": [
    {
     "data": {
      "image/png": "[encoded data removed]",
      "text/plain": [
       "<Figure size 640x480 with 1 Axes>"
      ]
     },
     "metadata": {},
     "output_type": "display_data"
    }
   ],
   "source": [
    "merged_store_train.groupby('day_of_week')['sales'].sum().plot(kind='bar')\n",
    "plt.show()"
   ]
  },
  {
   "cell_type": "markdown",
   "metadata": {},
   "source": [
    "Conclusion: Clearly weekend days have higher sales than week days"
   ]
  },
  {
   "cell_type": "code",
   "execution_count": 19,
   "metadata": {},
   "outputs": [],
   "source": [
    "merged_store_train['date'] = pd.to_datetime(merged_store_train['date'])"
   ]
  },
  {
   "cell_type": "code",
   "execution_count": 20,
   "metadata": {},
   "outputs": [],
   "source": [
    "merged_store_train['is_weekend'] = merged_store_train['day_of_week'].apply(lambda x: 1 if x >= 5 else 0)"
   ]
  },
  {
   "cell_type": "code",
   "execution_count": 21,
   "metadata": {},
   "outputs": [],
   "source": [
    "merged_store_train['month'] = pd.to_datetime(merged_store_train['date']).dt.month"
   ]
  },
  {
   "cell_type": "code",
   "execution_count": 22,
   "metadata": {},
   "outputs": [
    {
     "data": {
      "text/plain": [
       "id             0\n",
       "date           0\n",
       "store_nbr      0\n",
       "family         0\n",
       "sales          0\n",
       "onpromotion    0\n",
       "city           0\n",
       "state          0\n",
       "type           0\n",
       "cluster        0\n",
       "is_holiday     0\n",
       "day_of_week    0\n",
       "is_weekend     0\n",
       "month          0\n",
       "dtype: int64"
      ]
     },
     "execution_count": 22,
     "metadata": {},
     "output_type": "execute_result"
    }
   ],
   "source": [
    "merged_store_train.isnull().sum()"
   ]
  },
  {
   "cell_type": "markdown",
   "metadata": {},
   "source": [
    "# Time Series Specific feature engineering"
   ]
  },
  {
   "cell_type": "markdown",
   "metadata": {},
   "source": [
    "Lagging"
   ]
  },
  {
   "cell_type": "code",
   "execution_count": 34,
   "metadata": {},
   "outputs": [],
   "source": [
    "def add_lagged_features(group, lags):\n",
    "    for lag in lags:\n",
    "        group[f'lagged_sales_{lag}'] = group['sales'].shift(lag)\n",
    "    return group.reset_index(drop=True)\n",
    "\n",
    "# Create a lagged variable for sales\n",
    "grouped_data = merged_store_train.groupby(['store_nbr', 'family']).apply(add_lagged_features, lags=[1, 2])\n",
    "grouped_data.reset_index(drop=True, inplace=True)\n",
    "# Merge the lagged features back into the original DataFrame\n",
    "sales_data = pd.merge(merged_store_train, grouped_data[['store_nbr', 'family', 'date', 'lagged_sales_1', 'lagged_sales_2']], on=['store_nbr', 'family', 'date'])"
   ]
  },
  {
   "cell_type": "markdown",
   "metadata": {},
   "source": [
    "Rolling Window Statistics"
   ]
  },
  {
   "cell_type": "code",
   "execution_count": 38,
   "metadata": {},
   "outputs": [],
   "source": [
    "def add_rolling_mean(group, window_sizes):\n",
    "    for window_size in window_sizes:\n",
    "        group[f'rolling_mean_{window_size}_days'] = group['sales'].rolling(window_size).mean()\n",
    "    return group\n",
    "\n",
    "# Create a rolling mean variables for sales\n",
    "grouped_data = sales_data.groupby(['store_nbr', 'family']).apply(add_rolling_mean, window_sizes = [14, 28]) \n",
    "grouped_data.reset_index(drop=True, inplace=True)\n",
    "# Merge the lagged features back into the original DataFrame\n",
    "sales_data = pd.merge(sales_data, grouped_data[['store_nbr', 'family', 'date', 'rolling_mean_14_days', 'rolling_mean_28_days']], on=['store_nbr', 'family', 'date'])"
   ]
  },
  {
   "cell_type": "code",
   "execution_count": 40,
   "metadata": {},
   "outputs": [
    {
     "data": {
      "text/plain": [
       "id                          0\n",
       "date                        0\n",
       "store_nbr                   0\n",
       "family                      0\n",
       "sales                       0\n",
       "onpromotion                 0\n",
       "city                        0\n",
       "state                       0\n",
       "type                        0\n",
       "cluster                     0\n",
       "is_holiday                  0\n",
       "day_of_week                 0\n",
       "is_weekend                  0\n",
       "month                       0\n",
       "lagged_sales_1           1782\n",
       "lagged_sales_2           3564\n",
       "rolling_mean_14_days    23166\n",
       "rolling_mean_28_days    48114\n",
       "dtype: int64"
      ]
     },
     "execution_count": 40,
     "metadata": {},
     "output_type": "execute_result"
    }
   ],
   "source": [
    "sales_data.isnull().sum()"
   ]
  },
  {
   "cell_type": "code",
   "execution_count": 42,
   "metadata": {},
   "outputs": [
    {
     "name": "stdout",
     "output_type": "stream",
     "text": [
      "<class 'pandas.core.frame.DataFrame'>\n",
      "RangeIndex: 3000888 entries, 0 to 3000887\n",
      "Data columns (total 18 columns):\n",
      " #   Column                Dtype         \n",
      "---  ------                -----         \n",
      " 0   id                    int64         \n",
      " 1   date                  datetime64[ns]\n",
      " 2   store_nbr             int64         \n",
      " 3   family                object        \n",
      " 4   sales                 float64       \n",
      " 5   onpromotion           int64         \n",
      " 6   city                  object        \n",
      " 7   state                 object        \n",
      " 8   type                  object        \n",
      " 9   cluster               int64         \n",
      " 10  is_holiday            bool          \n",
      " 11  day_of_week           int32         \n",
      " 12  is_weekend            int64         \n",
      " 13  month                 int32         \n",
      " 14  lagged_sales_1        float64       \n",
      " 15  lagged_sales_2        float64       \n",
      " 16  rolling_mean_14_days  float64       \n",
      " 17  rolling_mean_28_days  float64       \n",
      "dtypes: bool(1), datetime64[ns](1), float64(5), int32(2), int64(5), object(4)\n",
      "memory usage: 369.2+ MB\n"
     ]
    }
   ],
   "source": [
    "sales_data.info()"
   ]
  },
  {
   "cell_type": "markdown",
   "metadata": {},
   "source": [
    "Pending: new attribute or approach for Ecuador's earthquake"
   ]
  },
  {
   "cell_type": "markdown",
   "metadata": {},
   "source": [
    "Ready for data pipeline, where scalers and encoders will be applied"
   ]
  }
 ],
 "metadata": {
  "kernelspec": {
   "display_name": "Python 3",
   "language": "python",
   "name": "python3"
  },
  "language_info": {
   "codemirror_mode": {
    "name": "ipython",
    "version": 3
   },
   "file_extension": ".py",
   "mimetype": "text/x-python",
   "name": "python",
   "nbconvert_exporter": "python",
   "pygments_lexer": "ipython3",
   "version": "3.11.7"
  }
 },
 "nbformat": 4,
 "nbformat_minor": 2
}
